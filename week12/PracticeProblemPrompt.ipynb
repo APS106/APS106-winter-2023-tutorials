{
 "cells": [
  {
   "cell_type": "markdown",
   "id": "e18e2c5f",
   "metadata": {},
   "source": [
    "# Coding Question 1\n",
    "#### LinkedList practice: \n",
    "1. Let’s work together to create a linked list of the items you ate as meals yesterday (eg, your breakfast, lunch and dinner). \n",
    "2. Once we’ve made the list, add a new node representing an afternoon snack and insert it into the linked list. \n",
    "3. Then print out all your meals for the day.\n",
    "\n",
    "\n",
    "### DO NOT IMPLEMENT A LINKEDLIST CLASS, only use Node for this problem\n"
   ]
  },
  {
   "cell_type": "code",
   "execution_count": 2,
   "id": "1f1460c9",
   "metadata": {},
   "outputs": [
    {
     "name": "stdout",
     "output_type": "stream",
     "text": [
      "This is what I ate today:\n",
      "Eggs -> Sandwich -> Chips -> Pasta -> "
     ]
    }
   ],
   "source": [
    "#Create a Node class\n",
    "\n",
    "\n",
    "#1. Add 'Eggs', 'Sandwich', and 'Pasta' as three nodes with the first pointing to second, second to third, and third to None\n",
    "\n",
    "\n",
    "\n",
    "#2. Add 'Chips' between Sandwich and Pasta nodes, adjusting pointers as necessary\n",
    "\n",
    "\n",
    "#3. Loop through the nodes by using what they point out next to \n",
    "currNode = breakfast\n",
    "print('This is what I ate today:')\n"
   ]
  },
  {
   "cell_type": "code",
   "execution_count": null,
   "id": "c75f37c8",
   "metadata": {},
   "outputs": [],
   "source": [
    "#The goal of this code is to test your knowledge in both implementing and testing with Node\n",
    "# It should be apparent if you did it wrong or not when you look at what step #3 prints out\n",
    "\n",
    "# To confirm your code implementation please look at the sample solution"
   ]
  },
  {
   "cell_type": "markdown",
   "id": "e3851dcc",
   "metadata": {},
   "source": [
    "# Coding Question 2\n",
    "\n",
    "#### Use the starter code given for the LinkedList class to implement the following methods:\n",
    "<ul>\n",
    "<li>__str__ : should return a string representation of all the nodes in the list (with  \n",
    "                         the same format Python uses to convert regular lists to strings).\n",
    "</li>\n",
    "<li>__len__ : should return, as an integer, how many nodes are in the list\n",
    "</li>\n",
    "<li>insert() : should work the same way as the insert method for the Python built-in \n",
    "                     type list. Hint: Use help (list.insert) for more info.</li>\n",
    "<li>concatenate() : takes in a LinkedList object and adds its elements to the end of the \n",
    "                                  self object. Should work the same way as the concatenation    \n",
    "                                  operation for the Python built-in type list.\n",
    "</li>\n",
    "</ul>\n",
    "\n",
    "### All these methods use similar loops to step #3 in Coding Question 1\n",
    "\n",
    "\n"
   ]
  },
  {
   "cell_type": "code",
   "execution_count": 12,
   "id": "ae22cd6a",
   "metadata": {},
   "outputs": [],
   "source": [
    "# Creating the class for a Node\n",
    "class Node:\n",
    "    # constructor\n",
    "    def __init__(self, data = None, next=None): \n",
    "        self.data = data\n",
    "        self.next = next\n",
    "\n",
    "# A Linked List class that stores a single head node\n",
    "class LinkedList:\n",
    "    def __init__(self, head = None):  \n",
    "        self.head = head\n",
    "        \n",
    "    def __str__(self):\n",
    "        \n",
    "    \n",
    "    def __len__(self):\n",
    "        \n",
    "    \n",
    "    def insert(self, index, value):\n",
    "        \n",
    "            \n",
    "    def concatenate(self, otherLList):\n",
    "        "
   ]
  },
  {
   "cell_type": "code",
   "execution_count": 13,
   "id": "06232b46",
   "metadata": {},
   "outputs": [
    {
     "name": "stdout",
     "output_type": "stream",
     "text": [
      "THE BELOW CODE SHOULD PERFORM AS YOU WOULD EXPECT FOR EACH METHOD (its left for you to check):\n",
      "This is my original LList (tests __str__): [1, 2, 3]\n",
      "Testing concatenate:\n",
      "Concatenated list: [1, 2, 3, 4, 5, 6]\n",
      "Testing insert:\n",
      "Inserted 4.5 list (should be between 4 and 5): [1, 2, 3, 4, 4.5, 5, 6]\n",
      "My LList should have a length of 7:\n",
      "len(myLL) is 7\n"
     ]
    }
   ],
   "source": [
    "#Please use this code to test your code\n",
    "print('THE BELOW CODE SHOULD PERFORM AS YOU WOULD EXPECT FOR EACH METHOD (its left for you to check):')\n",
    "#testing concatenate\n",
    "node3 = Node(3, None)\n",
    "node2 = Node(2, node3)\n",
    "node1 = Node(1, node2)\n",
    "myLL = LinkedList(node1)\n",
    "print('This is my original LList (tests __str__):', myLL)\n",
    "print('Testing concatenate:')\n",
    "node6 = Node(6, None)\n",
    "node5 = Node(5, node6)\n",
    "node4 = Node(4, node5)\n",
    "otherLL = LinkedList(node4)\n",
    "myLL.concatenate(otherLL)\n",
    "print('Concatenated list:', myLL)\n",
    "print('Testing insert:')\n",
    "myLL.insert(4, 4.5)\n",
    "print('Inserted 4.5 list (should be between 4 and 5):', myLL)\n",
    "print('My LList should have a length of 7:')\n",
    "print('len(myLL) is', len(myLL))"
   ]
  }
 ],
 "metadata": {
  "kernelspec": {
   "display_name": "Python 3 (ipykernel)",
   "language": "python",
   "name": "python3"
  },
  "language_info": {
   "codemirror_mode": {
    "name": "ipython",
    "version": 3
   },
   "file_extension": ".py",
   "mimetype": "text/x-python",
   "name": "python",
   "nbconvert_exporter": "python",
   "pygments_lexer": "ipython3",
   "version": "3.10.8"
  }
 },
 "nbformat": 4,
 "nbformat_minor": 5
}
