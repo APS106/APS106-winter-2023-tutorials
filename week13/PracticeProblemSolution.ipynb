{
 "cells": [
  {
   "cell_type": "markdown",
   "id": "ecc2c3d4",
   "metadata": {},
   "source": [
    "# Coding Question\n",
    "\n",
    "#### Let’s extend the BinaryTree  class we created. Let’s write a method min() for the BinaryTree class that returns the element in the tree with the smallest cargo. We assume that the tree is not empty.\n",
    "\n",
    "<ul>\n",
    "<li>If there are multiple nodes that contain the lowest value,return the one that is closest to the root. \n",
    "</li>\n",
    "<li>If there are multiple nodes that have the same minimal cargo value and are at the same distance from the root. \n",
    "return the left-most among them. \n",
    "</li>\n",
    "</ul>\n",
    "\n",
    "Note: the distance of a node n to the root r of a tree  is calculated as the number of parent nodes of n on the path from the root to n, including the root itself. Nodes that are the same distance from the root of the tree are said to be on the the same level in the tree. \n",
    "\n",
    "\n",
    "\n",
    "\n"
   ]
  },
  {
   "cell_type": "code",
   "execution_count": 14,
   "id": "d46a0545",
   "metadata": {},
   "outputs": [],
   "source": [
    "class TreeNode:\n",
    "    \n",
    "    \"\"\"A class that implements a binary tree.\"\"\"\n",
    "\n",
    "    def __init__(self, cargo=None, left=None, right=None):\n",
    "        \"\"\"\n",
    "        (self, object, TreeNode/None, TreeNode/None) -> NoneType\n",
    "        Create a Node with cargo and left and right subtrees.\n",
    "        \"\"\"\n",
    "        self.cargo = cargo\n",
    "        self.left = left\n",
    "        self.right = right\n",
    "        \n",
    "    def __str__(self):\n",
    "        return '(' + str(self.cargo) + ')'\n",
    "    \n",
    "class BinaryTree:\n",
    "\n",
    "    def __init__ (self, root=None):\n",
    "\n",
    "        self.size = 0  #attribute to keep track of the size of the tree\n",
    "        \n",
    "        self.root = root #attribute to keep track of root node of the tree\n",
    "    \n",
    "    def print_tree(self):\n",
    "        \"\"\"\n",
    "        (self) -> NoneType\n",
    "        Prints tree level by level.\n",
    "        \"\"\"\n",
    "        level = [self.root]\n",
    "        \n",
    "        while len(level) > 0:\n",
    "            \n",
    "            level_next = []\n",
    "            \n",
    "            for node in level:\n",
    "                \n",
    "                print(node, \" \", end = \"\")\n",
    "                \n",
    "                if node.left is not None:\n",
    "                    level_next.append(node.left) \n",
    "                if node.right is not None:\n",
    "                    level_next.append(node.right)\n",
    "                    \n",
    "            print('\\n')\n",
    "            level = level_next\n",
    "          \n",
    "\n",
    "    ##THIS IS NOT THE ONLY SOLUTION\n",
    "    def min(self):\n",
    "        #we go through all the nodes from the top, to the left and right\n",
    "        currMinN = self.root\n",
    "        #we will have a queue that keeps track of each node we need to go through\n",
    "        #we add to this queue with left, then right of the current node\n",
    "        # we keep looping until the queue is empty\n",
    "        queue = [self.root]\n",
    "        while len(queue) > 0:\n",
    "            #for the current node, we always look at the node that was added in first (like a song queue) \n",
    "            #(so it would be the beginning of the list, AKA next in queue)\n",
    "            currNode = queue.pop(0)\n",
    "            #as long as its not none, we check if it is a minimum and then add its left and right nodes to the queue\n",
    "            if currNode != None:\n",
    "                if currNode.cargo < currMinN.cargo:\n",
    "                    currMinN = currNode\n",
    "\n",
    "                queue.append(currNode.left)\n",
    "                queue.append(currNode.right)\n",
    "        #since we look at the nodes from left to right with each level, this satisfies the requirements of the question without\n",
    "        #having to check for anything else\n",
    "        return currMinN\n",
    "            "
   ]
  },
  {
   "cell_type": "code",
   "execution_count": 19,
   "id": "543f8f94",
   "metadata": {},
   "outputs": [
    {
     "name": "stdout",
     "output_type": "stream",
     "text": [
      "(3)  \n",
      "\n",
      "(2)  (2)  \n",
      "\n",
      "(4)  (6)  (2)  (8)  \n",
      "\n",
      "True\n"
     ]
    }
   ],
   "source": [
    "##THIS SHOULD RETURN TRUE AFTER DISPLAYING THE TREE IF SOLUTION IS VALID\n",
    "tree = BinaryTree(TreeNode(3, TreeNode(2, TreeNode(4), TreeNode(6)), TreeNode(2, TreeNode(2), TreeNode(8))))\n",
    "tree.print_tree()\n",
    "print(tree.min().left.cargo == 4 and tree.min().right.cargo == 6)"
   ]
  },
  {
   "cell_type": "code",
   "execution_count": null,
   "id": "aad151b6",
   "metadata": {},
   "outputs": [],
   "source": []
  }
 ],
 "metadata": {
  "kernelspec": {
   "display_name": "Python 3 (ipykernel)",
   "language": "python",
   "name": "python3"
  },
  "language_info": {
   "codemirror_mode": {
    "name": "ipython",
    "version": 3
   },
   "file_extension": ".py",
   "mimetype": "text/x-python",
   "name": "python",
   "nbconvert_exporter": "python",
   "pygments_lexer": "ipython3",
   "version": "3.10.8"
  }
 },
 "nbformat": 4,
 "nbformat_minor": 5
}
