{
 "cells": [
  {
   "cell_type": "markdown",
   "id": "12f33597",
   "metadata": {},
   "source": [
    "# Write a function that takes in 3 points, and returns the two points that are closest to each other.\n",
    "\n",
    "## The easiest way is to segment this problem into two functions: (1) one to find the distance between two points, (2) one that finds the minimum distance between 3 points:"
   ]
  },
  {
   "cell_type": "code",
   "execution_count": 2,
   "id": "5431e3de",
   "metadata": {},
   "outputs": [],
   "source": [
    "import math\n",
    "\n",
    "def getDistance(x1,y1,x2,y2):\n",
    "    distance = #INSERT PYTHON EQUIVALENT OF MATH EQUATION HERE\n",
    "    \n",
    "    return #what do we need to return here?\n",
    "\n",
    "def closest_points(x1, y1, x2, y2, x3, y3):\n",
    "    \n",
    "    distance1_2 = getDistance(x1,y1, x2, y2)\n",
    "    distance1_3 = #what goes here?\n",
    "    distance2_3 = #what goes here?\n",
    "    \n",
    "    if min(distance1_2, distance1_3, distance2_3) == #what goes here?:\n",
    "        return distance1_2\n",
    "    elif #what goes here?:\n",
    "        #what goes here?\n",
    "    else:\n",
    "        #what goes here?\n",
    "\n"
   ]
  },
  {
   "cell_type": "code",
   "execution_count": 7,
   "id": "a00fa655",
   "metadata": {},
   "outputs": [
    {
     "name": "stdout",
     "output_type": "stream",
     "text": [
      "True\n"
     ]
    }
   ],
   "source": [
    "#Testing\n",
    "print(closest_points(1,1,4,3,3,3) == getDistance(4,3,3,3))\n"
   ]
  }
 ],
 "metadata": {
  "kernelspec": {
   "display_name": "Python 3 (ipykernel)",
   "language": "python",
   "name": "python3"
  },
  "language_info": {
   "codemirror_mode": {
    "name": "ipython",
    "version": 3
   },
   "file_extension": ".py",
   "mimetype": "text/x-python",
   "name": "python",
   "nbconvert_exporter": "python",
   "pygments_lexer": "ipython3",
   "version": "3.10.8"
  }
 },
 "nbformat": 4,
 "nbformat_minor": 5
}
