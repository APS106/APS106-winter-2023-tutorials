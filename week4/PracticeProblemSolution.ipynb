{
 "cells": [
  {
   "cell_type": "markdown",
   "id": "5d678e30",
   "metadata": {},
   "source": [
    "# Write a function that takes in 3 points, and returns the two points that are closest to each other.\n",
    "\n",
    "## The easiest way is to segment this problem into two functions: (1) one to find the distance between two points, (2) one that finds the minimum distance between 3 points:"
   ]
  },
  {
   "cell_type": "code",
   "execution_count": 2,
   "id": "d1466e2e",
   "metadata": {},
   "outputs": [],
   "source": [
    "import math\n",
    "\n",
    "def getDistance(x1,y1,x2,y2):\n",
    "    distance = math.sqrt((x2-x1)**2 + (y2-y1)**2)\n",
    "    return distance\n",
    "\n",
    "def closest_points(x1, y1, x2, y2, x3, y3):\n",
    "    \n",
    "    distance1_2 = getDistance(x1,y1, x2, y2)\n",
    "    distance1_3 = getDistance(x1,y1, x3, y3)\n",
    "    distance2_3 = getDistance(x2,y2, x3, y3)\n",
    "    \n",
    "    if min(distance1_2, distance1_3, distance2_3) == distance1_2:\n",
    "        return distance1_2\n",
    "    elif min(distance1_2, distance1_3, distance2_3) == distance1_3:\n",
    "        return distance1_3\n",
    "    else:\n",
    "        return distance2_3\n",
    "\n",
    "\n"
   ]
  },
  {
   "cell_type": "code",
   "execution_count": 7,
   "id": "c63b3c49",
   "metadata": {},
   "outputs": [
    {
     "name": "stdout",
     "output_type": "stream",
     "text": [
      "True\n"
     ]
    }
   ],
   "source": [
    "#Testing\n",
    "print(closest_points(1,1,4,3,3,3) == getDistance(4,3,3,3))\n"
   ]
  }
 ],
 "metadata": {
  "kernelspec": {
   "display_name": "Python 3 (ipykernel)",
   "language": "python",
   "name": "python3"
  },
  "language_info": {
   "codemirror_mode": {
    "name": "ipython",
    "version": 3
   },
   "file_extension": ".py",
   "mimetype": "text/x-python",
   "name": "python",
   "nbconvert_exporter": "python",
   "pygments_lexer": "ipython3",
   "version": "3.10.8"
  }
 },
 "nbformat": 4,
 "nbformat_minor": 5
}
