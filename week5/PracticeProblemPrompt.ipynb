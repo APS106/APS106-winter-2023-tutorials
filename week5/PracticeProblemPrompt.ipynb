{
 "cells": [
  {
   "cell_type": "markdown",
   "id": "22dd63e7",
   "metadata": {},
   "source": [
    "# Coding Question 1\n",
    "Problem statement:\n",
    "Write a Python program that:\n",
    "asks the user to input an integer value (in base 10)\n",
    "finds the smallest digit(s) of the representation of the integer value in base 10.\n",
    "\n",
    "Additional requirements\n",
    "Your solution should:\n",
    "(1) not cast the integer value into a string value.\n",
    "(2) use while loops\n"
   ]
  },
  {
   "cell_type": "code",
   "execution_count": null,
   "id": "36488a86",
   "metadata": {},
   "outputs": [],
   "source": [
    "val = #take input as integer\n",
    "\n",
    "smallest = float('inf') #this is a universal maximum (infiniti)\n",
    "while val > 0:\n",
    "    #keep looping and check remainders of number when divded by 10 (val % 10 ) while keeping track of minima\n",
    "    \n",
    "    \n",
    "print(smallest)"
   ]
  },
  {
   "cell_type": "markdown",
   "id": "674d6845",
   "metadata": {},
   "source": [
    "## Coding Question 2\n",
    "Problem Statement\n",
    "Write a python program to find the first 9 prime numbers of the Fibonacci sequence.\n",
    "\n",
    "Recall that:\n",
    "Each number in the Fibonacci sequence is the sum of the two preceding ones. The sequence starts with 0 and 1. \n",
    ">> For example: 0, 1, 1, 2, 3, 5, 8, 13, 21, 34, 55, 89, 144, …\n",
    "Prime numbers are numbers that have only 2 factors: 1 and themselves\n"
   ]
  },
  {
   "cell_type": "code",
   "execution_count": null,
   "id": "11664b7e",
   "metadata": {},
   "outputs": [],
   "source": [
    "#Write a function to check if a number is prime. Your function should take in an integer \n",
    "#and return a boolean value (True if the input is prime and False otherwise). \n",
    "\n",
    "\n",
    "def check_primality(value):\n",
    "    \n",
    "    "
   ]
  },
  {
   "cell_type": "code",
   "execution_count": null,
   "id": "64265689",
   "metadata": {},
   "outputs": [],
   "source": [
    "# Write a while loop that:\n",
    "# at every iteration\n",
    "# generates the next number in the Fibonacci sequence\n",
    "# checks if the number just generated is a prime number using the function you implemented at Step 1\n",
    "# stops after 9 primes were generated\n",
    "\n",
    "\n",
    "\n",
    "counter = 0\n",
    "# Note: we start checking the value from the 4th value in the sequence, since we already know that the\n",
    "# first three values are not prime numbers\n",
    "n1 = 1  # 2nd value in the sequence\n",
    "n2 = 1 # 3rd value in the sequence\n",
    "while counter < 9:\n",
    "    nth = n1 + n2\n",
    "    \n",
    "    is_prime = #use our function to check if the number is prime\n",
    "    \n",
    "    if (is_prime):\n",
    "        #display the prime number (nth)\n",
    "        #update the counter \n",
    "    \n",
    "    # update values\n",
    "    n1 = n2\n",
    "    n2 = nth\n",
    "    \n",
    "    \n",
    "    \n",
    "    \n",
    "    "
   ]
  }
 ],
 "metadata": {
  "kernelspec": {
   "display_name": "Python 3 (ipykernel)",
   "language": "python",
   "name": "python3"
  },
  "language_info": {
   "codemirror_mode": {
    "name": "ipython",
    "version": 3
   },
   "file_extension": ".py",
   "mimetype": "text/x-python",
   "name": "python",
   "nbconvert_exporter": "python",
   "pygments_lexer": "ipython3",
   "version": "3.10.8"
  }
 },
 "nbformat": 4,
 "nbformat_minor": 5
}
